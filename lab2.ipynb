{
 "cells": [
  {
   "cell_type": "code",
   "execution_count": 5,
   "metadata": {},
   "outputs": [],
   "source": [
    "from IPython.core.magic import register_cell_magic, register_line_magic\n",
    "\n",
    "@register_cell_magic\n",
    "def sqlite3(line, cell):\n",
    "    cell = [l for l in cell.split('\\n') if l[0:2] != '--' and l[0:2] not in ['--', '##']]\n",
    "    cell = '\\n'.join(cell)\n",
    "    return cur.execute(cell).fetchall()\n",
    "\n",
    "@register_cell_magic\n",
    "def sqlite3script(line, cell):\n",
    "    cell = [l for l in cell.split('\\n') if len(l) >= 2 and l[0:2] not in ['--', '##'] ]\n",
    "    cell = '\\n'.join(cell)\n",
    "    conn.executescript(cell)\n",
    "    conn.commit()\n",
    "\n",
    "@register_line_magic\n",
    "def sql(line):\n",
    "    line = [l for l in line.split('\\n') if l[0:2] != '--' and l[0:2] not in ['--', '##']]\n",
    "    line = '\\n'.join(line)\n",
    "    return cur.execute(line).fetchall()"
   ]
  },
  {
   "cell_type": "code",
   "execution_count": 6,
   "metadata": {},
   "outputs": [],
   "source": [
    "import sqlite3\n",
    "\n",
    "conn = sqlite3.connect(':memory:')\n",
    "cur = conn.cursor()"
   ]
  },
  {
   "cell_type": "code",
   "execution_count": 7,
   "metadata": {},
   "outputs": [
    {
     "data": {
      "text/plain": [
       "[]"
      ]
     },
     "execution_count": 7,
     "metadata": {},
     "output_type": "execute_result"
    }
   ],
   "source": [
    "##\n",
    "## Creación de las tablas\n",
    "##\n",
    "sqlcmd = \"\"\"\n",
    "CREATE TABLE tbl0 (\n",
    "    K0  CHAR(1),\n",
    "    c01 INT,\n",
    "    c02 INT,\n",
    "    c03 CHAR(4),\n",
    "    c04 FLOAT\n",
    "    );\n",
    "\"\"\"\n",
    "cur.execute(sqlcmd).fetchall()"
   ]
  },
  {
   "cell_type": "code",
   "execution_count": 8,
   "metadata": {},
   "outputs": [
    {
     "data": {
      "text/plain": [
       "[]"
      ]
     },
     "execution_count": 8,
     "metadata": {},
     "output_type": "execute_result"
    }
   ],
   "source": [
    "##\n",
    "\n",
    "sqlcmd = \"\"\"\n",
    "CREATE TABLE tbl1 (\n",
    "    K0  CHAR(1),\n",
    "    K1  INT,\n",
    "    c12 FLOAT,\n",
    "    c13 INT,\n",
    "    c14 DATE,\n",
    "    c15 FLOAT,\n",
    "    c16 CHAR(4)\n",
    "    );\n",
    "\"\"\"\n",
    "cur.execute(sqlcmd).fetchall()"
   ]
  },
  {
   "cell_type": "code",
   "execution_count": 9,
   "metadata": {},
   "outputs": [
    {
     "data": {
      "text/plain": [
       "[]"
      ]
     },
     "execution_count": 9,
     "metadata": {},
     "output_type": "execute_result"
    }
   ],
   "source": [
    "##\n",
    "\n",
    "sqlcmd = \"\"\"\n",
    "CREATE TABLE tbl2 (\n",
    "    K1  INT,\n",
    "    c21 FLOAT,\n",
    "    c22 INT,\n",
    "    c23 DATE,\n",
    "    c24 FLOAT,\n",
    "    c25 CHAR(5)\n",
    "    );\n",
    "\"\"\"\n",
    "cur.execute(sqlcmd).fetchall()"
   ]
  },
  {
   "cell_type": "code",
   "execution_count": 11,
   "metadata": {},
   "outputs": [
    {
     "data": {
      "text/plain": [
       "<sqlite3.Cursor at 0x5082ab0>"
      ]
     },
     "execution_count": 11,
     "metadata": {},
     "output_type": "execute_result"
    }
   ],
   "source": [
    "##\n",
    "## Carga de datos\n",
    "##\n",
    "text =  open('tbl0.csv', 'rt', encoding='utf-8').readlines()\n",
    "text = [line[:-1] if line[-1] == '\\n' else line for line in text]    \n",
    "text = [line.split(',') for line in text]\n",
    "text = [tuple(line) for line in text]\n",
    "cur.executemany('INSERT INTO tbl0 VALUES (?,?,?,?,?)', text)"
   ]
  },
  {
   "cell_type": "code",
   "execution_count": 12,
   "metadata": {},
   "outputs": [
    {
     "data": {
      "text/plain": [
       "<sqlite3.Cursor at 0x5082ab0>"
      ]
     },
     "execution_count": 12,
     "metadata": {},
     "output_type": "execute_result"
    }
   ],
   "source": [
    "text =  open('tbl1.csv', 'rt', encoding='utf-8').readlines()\n",
    "text = [line[:-1] if line[-1] == '\\n' else line for line in text]    \n",
    "text = [line.split(',') for line in text]\n",
    "text = [tuple(line) for line in text]\n",
    "cur.executemany('INSERT INTO tbl1 VALUES (?,?,?,?,?,?,?)', text)"
   ]
  },
  {
   "cell_type": "code",
   "execution_count": 13,
   "metadata": {
    "scrolled": true
   },
   "outputs": [
    {
     "data": {
      "text/plain": [
       "<sqlite3.Cursor at 0x5082ab0>"
      ]
     },
     "execution_count": 13,
     "metadata": {},
     "output_type": "execute_result"
    }
   ],
   "source": [
    "text =  open('tbl2.csv', 'rt', encoding='utf-8').readlines()\n",
    "text = [line[:-1] if line[-1] == '\\n' else line for line in text]    \n",
    "text = [line.split(',') for line in text]\n",
    "text = [tuple(line) for line in text]\n",
    "cur.executemany('INSERT INTO tbl2 VALUES (?,?,?,?,?,?)', text)"
   ]
  },
  {
   "cell_type": "markdown",
   "metadata": {},
   "source": [
    "### q01.sql\n",
    "\n",
    "~~~\n",
    "## \n",
    "## Escriba una consulta que devuelva la suma del campo c12\n",
    "## de la tabla tbl1\n",
    "## \n",
    "~~~"
   ]
  },
  {
   "cell_type": "code",
   "execution_count": 18,
   "metadata": {},
   "outputs": [
    {
     "data": {
      "text/plain": [
       "[(15137.63,)]"
      ]
     },
     "execution_count": 18,
     "metadata": {},
     "output_type": "execute_result"
    }
   ],
   "source": [
    "%%sqlite3\n",
    "SELECT SUM(c12)\n",
    "FROM tbl1;"
   ]
  },
  {
   "cell_type": "markdown",
   "metadata": {},
   "source": [
    "### q02.sql\n",
    "\n",
    "~~~\n",
    "## \n",
    "## Escriba una consulta que retorne la cantidad de registros\n",
    "## de la tabla tbl1\n",
    "## \n",
    "~~~"
   ]
  },
  {
   "cell_type": "code",
   "execution_count": 20,
   "metadata": {},
   "outputs": [
    {
     "data": {
      "text/plain": [
       "[(30,)]"
      ]
     },
     "execution_count": 20,
     "metadata": {},
     "output_type": "execute_result"
    }
   ],
   "source": [
    "%%sqlite3\n",
    "SELECT COUNT(*)\n",
    "FROM tbl1;"
   ]
  },
  {
   "cell_type": "markdown",
   "metadata": {},
   "source": [
    "### q03.sql\n",
    "\n",
    "~~~\n",
    "## \n",
    "## Escriba una consulta que retorne los primeros cinco\n",
    "## registros de la tabla tbl1 ordenados por fecha\n",
    "## \n",
    "~~~"
   ]
  },
  {
   "cell_type": "code",
   "execution_count": 22,
   "metadata": {},
   "outputs": [
    {
     "data": {
      "text/plain": [
       "[('A', 20, 938.16, 300, '2016-09-12', 0.19, 'BECB'),\n",
       " ('C', 15, 370.58, 900, '2016-10-01', 0.11, 'GCDD'),\n",
       " ('E', 22, 118.77, 900, '2016-10-29', 0.32, 'GEFE'),\n",
       " ('B', 12, 999.72, 800, '2016-11-09', 0.26, 'FCGD'),\n",
       " ('E', 14, 832.44, 800, '2016-11-22', 0.39, 'EGFD')]"
      ]
     },
     "execution_count": 22,
     "metadata": {},
     "output_type": "execute_result"
    }
   ],
   "source": [
    "%%sqlite3\n",
    "SELECT *\n",
    "FROM tbl1\n",
    "ORDER BY c14 LIMIT 5;"
   ]
  },
  {
   "cell_type": "markdown",
   "metadata": {},
   "source": [
    "### q04.sql\n",
    "\n",
    "~~~\n",
    "## \n",
    "## Escriba una consulta que retorne los campos K0 y c16\n",
    "## para los registros de la tabla tbl1 para los que la \n",
    "## columna c16 empieza por la misma letra de la columna K0\n",
    "## \n",
    "~~~"
   ]
  },
  {
   "cell_type": "code",
   "execution_count": 40,
   "metadata": {},
   "outputs": [
    {
     "data": {
      "text/plain": [
       "[('E', 'EGFD'), ('B', 'BDEE'), ('C', 'CCCE')]"
      ]
     },
     "execution_count": 40,
     "metadata": {},
     "output_type": "execute_result"
    }
   ],
   "source": [
    "%%sqlite3\n",
    "SELECT k0, c16\n",
    "FROM tbl1\n",
    "WHERE c16 LIKE k0 || '%';"
   ]
  },
  {
   "cell_type": "markdown",
   "metadata": {},
   "source": [
    "### q05.sql\n",
    "\n",
    "~~~\n",
    "## \n",
    "## Escriba una consulta que retorne todos los campos de \n",
    "## la tabla tbl0 para los que el campo c02 es igual a 100\n",
    "## o igual a 600\n",
    "## \n",
    "~~~"
   ]
  },
  {
   "cell_type": "code",
   "execution_count": 41,
   "metadata": {},
   "outputs": [
    {
     "data": {
      "text/plain": [
       "[('B', 7000, 100, 'OLPKN', 0.2),\n",
       " ('C', 1000, 600, 'LMMML', 0.2),\n",
       " ('D', 4000, 600, 'PJLJL', 0.4),\n",
       " ('G', 5000, 100, 'NLPLO', 0.2)]"
      ]
     },
     "execution_count": 41,
     "metadata": {},
     "output_type": "execute_result"
    }
   ],
   "source": [
    "%%sqlite3\n",
    "SELECT *\n",
    "FROM tbl0\n",
    "WHERE c02 IN (100, 600);"
   ]
  },
  {
   "cell_type": "markdown",
   "metadata": {},
   "source": [
    "### q06.sql\n",
    "\n",
    "~~~\n",
    "## \n",
    "## Escriba una consulta que retorne todos los campos de \n",
    "## la tabla tbl1 ordenada por fecha (c14) para los \n",
    "## registros con K0 igual a A\n",
    "## \n",
    "~~~"
   ]
  },
  {
   "cell_type": "code",
   "execution_count": 44,
   "metadata": {},
   "outputs": [
    {
     "data": {
      "text/plain": [
       "[('A', 20, 938.16, 300, '2016-09-12', 0.19, 'BECB'),\n",
       " ('A', 30, 135.8, 900, '2017-01-26', 0.23, 'EGAB'),\n",
       " ('A', 18, 142.99, 100, '2017-02-12', 0.48, 'GGFD'),\n",
       " ('A', 26, 456.47, 400, '2018-01-28', 0.11, 'FGED'),\n",
       " ('A', 6, 391.42, 300, '2018-05-15', 0.22, 'BFGB'),\n",
       " ('A', 10, 816.51, 600, '2019-04-25', 0.4, 'DAGC')]"
      ]
     },
     "execution_count": 44,
     "metadata": {},
     "output_type": "execute_result"
    }
   ],
   "source": [
    "%%sqlite3\n",
    "SELECT *\n",
    "FROM tbl1\n",
    "WHERE k0 = 'A'\n",
    "ORDER BY c14;"
   ]
  },
  {
   "cell_type": "markdown",
   "metadata": {},
   "source": [
    "### q07.sql\n",
    "\n",
    "~~~\n",
    "## \n",
    "## Escriba una consulta que retorne todos los campos de \n",
    "## la tabla tbl1 ordenada por fecha (c14) para los \n",
    "## registros con K0 diferente a A y B y c13 diferente \n",
    "## de 200 y 900\n",
    "##\n",
    "~~~"
   ]
  },
  {
   "cell_type": "code",
   "execution_count": 46,
   "metadata": {},
   "outputs": [
    {
     "data": {
      "text/plain": [
       "[('E', 14, 832.44, 800, '2016-11-22', 0.39, 'EGFD'),\n",
       " ('E', 8, 302.86, 700, '2016-12-22', 0.14, 'DFCC'),\n",
       " ('E', 1, 273.08, 600, '2016-12-31', 0.21, 'BDGD'),\n",
       " ('E', 27, 720.9, 800, '2017-01-16', 0.12, 'FBGD'),\n",
       " ('D', 4, 662.69, 800, '2017-03-26', 0.23, 'BGDD'),\n",
       " ('E', 3, 305.43, 100, '2017-05-21', 0.21, 'BAED'),\n",
       " ('C', 13, 712.61, 400, '2017-10-23', 0.31, 'EDDA'),\n",
       " ('C', 5, 822.81, 100, '2017-11-17', 0.35, 'GGFC'),\n",
       " ('C', 7, 755.27, 800, '2018-07-04', 0.47, 'GCDB'),\n",
       " ('E', 25, 600.9, 700, '2018-11-07', 0.36, 'BBBA'),\n",
       " ('D', 2, 756.37, 500, '2019-02-28', 0.37, 'BCCC'),\n",
       " ('C', 19, 570.43, 400, '2019-04-12', 0.48, 'FBEE'),\n",
       " ('C', 24, 482.32, 300, '2019-05-03', 0.11, 'CCCE')]"
      ]
     },
     "execution_count": 46,
     "metadata": {},
     "output_type": "execute_result"
    }
   ],
   "source": [
    "%%sqlite3\n",
    "SELECT *\n",
    "FROM tbl1\n",
    "WHERE k0 NOT IN ('A', 'B') AND c13 NOT IN (200, 900)\n",
    "ORDER BY c14;"
   ]
  },
  {
   "cell_type": "markdown",
   "metadata": {},
   "source": [
    "### q08.sql\n",
    "\n",
    "~~~\n",
    "## \n",
    "## Escriba una consulta que compute el promedio\n",
    "## de la columna c21 de la tabla tbl2 por ano \n",
    "## (columna c23) que este ordenada por año. \n",
    "##\n",
    "~~~"
   ]
  },
  {
   "cell_type": "code",
   "execution_count": 74,
   "metadata": {
    "scrolled": true
   },
   "outputs": [
    {
     "data": {
      "text/plain": [
       "[('2016', 564.4764285714285),\n",
       " ('2017', 515.1563636363637),\n",
       " ('2018', 557.5593749999999),\n",
       " ('2019', 550.9985714285714)]"
      ]
     },
     "execution_count": 74,
     "metadata": {},
     "output_type": "execute_result"
    }
   ],
   "source": [
    "%%sqlite3\n",
    "SELECT strftime('%Y', c23) AS YEAR, avg(c21) \n",
    "FROM tbl2\n",
    "GROUP BY strftime('%Y', c23)\n",
    "ORDER BY strftime('%Y', c23);"
   ]
  },
  {
   "cell_type": "markdown",
   "metadata": {},
   "source": [
    "### q09.sql\n",
    "\n",
    "~~~\n",
    "## \n",
    "## Escriba una consulta que retorne el registro\n",
    "## con el menor valor en la columna c21 de la \n",
    "## tabla tbl2.\n",
    "##\n",
    "~~~"
   ]
  },
  {
   "cell_type": "code",
   "execution_count": 66,
   "metadata": {},
   "outputs": [
    {
     "data": {
      "text/plain": [
       "[(29, 101.11, 100, '2017-11-17', 0.42, 'MV-CB')]"
      ]
     },
     "execution_count": 66,
     "metadata": {},
     "output_type": "execute_result"
    }
   ],
   "source": [
    "%%sqlite3\n",
    "SELECT *\n",
    "FROM tbl2\n",
    "WHERE c21 = (SELECT MIN(c21) FROM tbl2);"
   ]
  },
  {
   "cell_type": "markdown",
   "metadata": {},
   "source": [
    "### q10.sql\n",
    "\n",
    "~~~\n",
    "## \n",
    "## Escriba una consulta que retorne todos los \n",
    "## campos de los registros de la tabla tbl0 \n",
    "## con la columna c02 mayor o igual a 300.\n",
    "##\n",
    "~~~"
   ]
  },
  {
   "cell_type": "code",
   "execution_count": 69,
   "metadata": {
    "scrolled": true
   },
   "outputs": [
    {
     "data": {
      "text/plain": [
       "[('\\ufeffA', 5000, 900, 'NMNJL', 0.4),\n",
       " ('C', 1000, 600, 'LMMML', 0.2),\n",
       " ('D', 4000, 600, 'PJLJL', 0.4),\n",
       " ('F', 2000, 300, 'NNPJO', 0.3),\n",
       " ('I', 3000, 300, 'PPPPL', 0.3)]"
      ]
     },
     "execution_count": 69,
     "metadata": {},
     "output_type": "execute_result"
    }
   ],
   "source": [
    "%%sqlite3\n",
    "SELECT *\n",
    "FROM tbl0\n",
    "WHERE c02 >= 300;"
   ]
  },
  {
   "cell_type": "markdown",
   "metadata": {},
   "source": [
    "### q11.sql\n",
    "\n",
    "~~~\n",
    "## \n",
    "## Escriba una consulta que retorne el total \n",
    "## de registros de la tabla tbl1 para el ano\n",
    "## 2018\n",
    "##\n",
    "~~~"
   ]
  },
  {
   "cell_type": "code",
   "execution_count": 73,
   "metadata": {},
   "outputs": [
    {
     "data": {
      "text/plain": [
       "[('2018', 6)]"
      ]
     },
     "execution_count": 73,
     "metadata": {},
     "output_type": "execute_result"
    }
   ],
   "source": [
    "%%sqlite3\n",
    "SELECT strftime('%Y', c14) AS YEAR, COUNT(*) AS CANT\n",
    "FROM tbl1\n",
    "WHERE strftime('%Y', c14) = '2018';"
   ]
  },
  {
   "cell_type": "markdown",
   "metadata": {},
   "source": [
    "### q12.sql\n",
    "\n",
    "~~~\n",
    "## \n",
    "## Escriba una consulta que retorne el total \n",
    "## de registros de la tabla tbl1 para el ano\n",
    "## 2018\n",
    "##\n",
    "~~~"
   ]
  },
  {
   "cell_type": "code",
   "execution_count": 75,
   "metadata": {},
   "outputs": [
    {
     "data": {
      "text/plain": [
       "[('2018', 6)]"
      ]
     },
     "execution_count": 75,
     "metadata": {},
     "output_type": "execute_result"
    }
   ],
   "source": [
    "%%sqlite3\n",
    "SELECT strftime('%Y', c14) AS YEAR, COUNT(*) AS CANT\n",
    "FROM tbl1\n",
    "WHERE strftime('%Y', c14) = '2018';"
   ]
  },
  {
   "cell_type": "markdown",
   "metadata": {},
   "source": [
    "### q13.sql\n",
    "\n",
    "~~~\n",
    "## \n",
    "## Escriba una consulta que retorne por cada letra\n",
    "## de la columna K0, el valor máximo de la coumna c12\n",
    "## en la tabla tbl1.\n",
    "##\n",
    "~~~"
   ]
  },
  {
   "cell_type": "code",
   "execution_count": 76,
   "metadata": {},
   "outputs": [
    {
     "data": {
      "text/plain": [
       "[('A', 938.16, 135.8),\n",
       " ('B', 999.72, 283.4),\n",
       " ('C', 822.81, 267.42),\n",
       " ('D', 756.37, 317.77),\n",
       " ('E', 832.44, 118.77)]"
      ]
     },
     "execution_count": 76,
     "metadata": {},
     "output_type": "execute_result"
    }
   ],
   "source": [
    "%%sqlite3\n",
    "SELECT k0, MAX(c12), min(C12)\n",
    "FROM tbl1\n",
    "GROUP BY k0;"
   ]
  },
  {
   "cell_type": "markdown",
   "metadata": {},
   "source": [
    "### q14.sql\n",
    "\n",
    "~~~\n",
    "## \n",
    "## Escriba una consulta que retorne por cada letra\n",
    "## de la columna K0, el valor promedio de la columna c12\n",
    "## en la tabla tbl1, para aquellos registros con c13 mayor\n",
    "## a 400.\n",
    "##\n",
    "~~~"
   ]
  },
  {
   "cell_type": "code",
   "execution_count": 79,
   "metadata": {},
   "outputs": [
    {
     "data": {
      "text/plain": [
       "[('A', 476.155),\n",
       " ('B', 536.5233333333333),\n",
       " ('C', 490.8299999999999),\n",
       " ('D', 709.53),\n",
       " ('E', 474.82500000000005)]"
      ]
     },
     "execution_count": 79,
     "metadata": {},
     "output_type": "execute_result"
    }
   ],
   "source": [
    "%%sqlite3\n",
    "SELECT k0, avg(c12)\n",
    "FROM tbl1\n",
    "WHERE c13 > 400\n",
    "GROUP BY k0;"
   ]
  },
  {
   "cell_type": "markdown",
   "metadata": {},
   "source": [
    "### q15.sql\n",
    "\n",
    "~~~\n",
    "## \n",
    "## Escriba una consulta que retorne por cada letra\n",
    "## de la columna K0, el valor promedio de la columna c21\n",
    "## en la tabla tbl1, para aquellos registros con c13 mayor\n",
    "## a 400.\n",
    "##\n",
    "~~~"
   ]
  },
  {
   "cell_type": "code",
   "execution_count": 81,
   "metadata": {},
   "outputs": [
    {
     "data": {
      "text/plain": [
       "[('A', 593.495),\n",
       " ('B', 575.47),\n",
       " ('C', 530.7529999999999),\n",
       " ('D', 655.6125),\n",
       " ('E', 555.323076923077)]"
      ]
     },
     "execution_count": 81,
     "metadata": {},
     "output_type": "execute_result"
    }
   ],
   "source": [
    "%%sqlite3\n",
    "SELECT k0, avg(c21)\n",
    "FROM tbl1 NATURAL JOIN tbl2\n",
    "WHERE c13 > 400\n",
    "GROUP BY k0;"
   ]
  }
 ],
 "metadata": {
  "kernelspec": {
   "display_name": "Python 3",
   "language": "python",
   "name": "python3"
  },
  "language_info": {
   "codemirror_mode": {
    "name": "ipython",
    "version": 3
   },
   "file_extension": ".py",
   "mimetype": "text/x-python",
   "name": "python",
   "nbconvert_exporter": "python",
   "pygments_lexer": "ipython3",
   "version": "3.6.6"
  }
 },
 "nbformat": 4,
 "nbformat_minor": 2
}
